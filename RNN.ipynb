{
  "cells": [
    {
      "cell_type": "markdown",
      "source": [
        "# **RNN experiments❤️‍🔥**\n",
        "![image.png](data:image/png;base64,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)"
      ],
      "metadata": {
        "id": "5D_3fMWlE8v4"
      },
      "id": "5D_3fMWlE8v4"
    },
    {
      "cell_type": "markdown",
      "source": [
        "### Many2One RNN for Language Modeling"
      ],
      "metadata": {
        "id": "ET7REIzUFYCr"
      },
      "id": "ET7REIzUFYCr"
    },
    {
      "cell_type": "code",
      "execution_count": 9,
      "id": "045c8643",
      "metadata": {
        "id": "045c8643"
      },
      "outputs": [],
      "source": [
        "import torch\n",
        "import torch.nn as nn\n",
        "import torch.optim as optim\n",
        "import random"
      ]
    },
    {
      "cell_type": "code",
      "execution_count": 10,
      "id": "e69ab71c",
      "metadata": {
        "colab": {
          "base_uri": "https://localhost:8080/"
        },
        "id": "e69ab71c",
        "outputId": "42fdc652-7ebe-439d-d902-f4a30c3c6bf2"
      },
      "outputs": [
        {
          "output_type": "stream",
          "name": "stdout",
          "text": [
            "8 110\n"
          ]
        }
      ],
      "source": [
        "# text = open(\"onegin.txt\", \"r\").read()\n",
        "text = \"hello world\" * 10\n",
        "chars = sorted(set(text))\n",
        "vocab_size = len(chars)\n",
        "\n",
        "stoi = {ch: i for i, ch in enumerate(chars)}\n",
        "itos = {i: ch for ch, i in stoi.items()}\n",
        "\n",
        "print(vocab_size, len(text))"
      ]
    },
    {
      "cell_type": "code",
      "execution_count": 11,
      "id": "2fbdd2f9",
      "metadata": {
        "id": "2fbdd2f9"
      },
      "outputs": [],
      "source": [
        "def encode(s):\n",
        "    return [stoi[s] for c in s]\n",
        "\n",
        "def decode(indices):\n",
        "    return \"\".join([itos[i] for i in indices])"
      ]
    },
    {
      "cell_type": "code",
      "execution_count": 12,
      "id": "e0ef3141",
      "metadata": {
        "id": "e0ef3141"
      },
      "outputs": [],
      "source": [
        "class VanillaRNN(nn.Module):\n",
        "    def __init__(self, input_size, hidden_size, output_size):\n",
        "        super().__init__()\n",
        "        self.Wx = nn.Linear(input_size, hidden_size)\n",
        "        self.Wh = nn.Linear(hidden_size, hidden_size, bias=False)\n",
        "        self.Wy = nn.Linear(hidden_size, output_size)\n",
        "\n",
        "    def forward(self, inputs, h_prev):\n",
        "        hs = []\n",
        "        h = h_prev\n",
        "        for x in inputs:\n",
        "            h = torch.relu(self.Wx(x) + self.Wh(h))\n",
        "            hs.append(h)\n",
        "        logits = self.Wy(hs[-1])\n",
        "        return logits, h"
      ]
    },
    {
      "cell_type": "code",
      "execution_count": 13,
      "id": "5e178bc2",
      "metadata": {
        "id": "5e178bc2"
      },
      "outputs": [],
      "source": [
        "# HyperParameters\n",
        "input_size = vocab_size\n",
        "hidden_size = 32\n",
        "output_size = vocab_size\n",
        "seq_len = 7  # how many characters to read before predicting the next"
      ]
    },
    {
      "cell_type": "code",
      "execution_count": 14,
      "id": "a760297e",
      "metadata": {
        "id": "a760297e"
      },
      "outputs": [],
      "source": [
        "model = VanillaRNN(input_size, hidden_size, output_size)\n",
        "loss_fn = nn.CrossEntropyLoss()\n",
        "optimizer = optim.Adam(model.parameters(), lr=0.001)\n",
        "\n",
        "def one_hot(index, vocab_size):\n",
        "    vec = torch.zeros(1, vocab_size)\n",
        "    vec[0, index] = 1.0\n",
        "    return vec"
      ]
    },
    {
      "cell_type": "code",
      "execution_count": 15,
      "id": "77985259",
      "metadata": {
        "id": "77985259"
      },
      "outputs": [],
      "source": [
        "def generate(start_text=\" \", length=20):\n",
        "    model.eval()\n",
        "    chars = [stoi[start_text]]\n",
        "    h = torch.zeros(1, hidden_size)\n",
        "    for _ in range(length):\n",
        "        x = one_hot(chars[-1], vocab_size)\n",
        "        logits, h = model([x], h)\n",
        "        probs = torch.softmax(logits, dim=-1)\n",
        "        idx = torch.multinomial(probs, num_samples=1).item()\n",
        "        chars.append(idx)\n",
        "    return decode(chars)"
      ]
    },
    {
      "cell_type": "code",
      "execution_count": 16,
      "id": "7d50325c",
      "metadata": {
        "colab": {
          "base_uri": "https://localhost:8080/"
        },
        "id": "7d50325c",
        "outputId": "d83e7ff4-f100-4ac3-dd96-734670225d4a"
      },
      "outputs": [
        {
          "output_type": "stream",
          "name": "stdout",
          "text": [
            "Epoch: 50 | Loss: 0.0000\n",
            "hello worloh\n",
            "Epoch: 100 | Loss: 0.0072\n",
            "hrello wello\n",
            "Epoch: 150 | Loss: 0.0008\n",
            "horldhelld w\n",
            "Epoch: 200 | Loss: 0.0000\n",
            "hrloo wollo \n",
            "Epoch: 250 | Loss: 0.0003\n",
            "hdrldherlllo\n",
            "Epoch: 300 | Loss: 0.0000\n",
            "herld wolldh\n"
          ]
        }
      ],
      "source": [
        "n_epochs = 300\n",
        "for epoch in range(n_epochs):\n",
        "    total_loss = 0\n",
        "\n",
        "    for i in range(len(text)-seq_len):\n",
        "        seq_in = text[i:i+seq_len]\n",
        "        seq_out = text[i+seq_len]\n",
        "\n",
        "        x_seq = [one_hot(stoi[ch], vocab_size) for ch in seq_in]\n",
        "        y_target = torch.tensor([stoi[seq_out]])\n",
        "\n",
        "        h_prev = torch.zeros(1, hidden_size)\n",
        "        logits, h = model(x_seq, h_prev)\n",
        "\n",
        "        loss = loss_fn(logits, y_target)\n",
        "        optimizer.zero_grad()\n",
        "        loss.backward()\n",
        "        optimizer.step()\n",
        "\n",
        "        total_loss += loss.item()\n",
        "    if (epoch+1) % 50 == 0:\n",
        "        print(f\"Epoch: {epoch+1} | Loss: {total_loss:.4f}\")\n",
        "        # print(generate(random.choice(chars)))\n",
        "        print(generate(\"h\", 11))"
      ]
    },
    {
      "cell_type": "code",
      "execution_count": 17,
      "id": "c83d776a",
      "metadata": {
        "colab": {
          "base_uri": "https://localhost:8080/"
        },
        "id": "c83d776a",
        "outputId": "b91c3250-7eaa-4be2-9bcf-0b1848d6b532"
      },
      "outputs": [
        {
          "output_type": "stream",
          "name": "stdout",
          "text": [
            "wlewe\n"
          ]
        }
      ],
      "source": [
        "print(generate(\"w\", 4))"
      ]
    },
    {
      "cell_type": "code",
      "execution_count": 18,
      "id": "6a851086",
      "metadata": {
        "colab": {
          "base_uri": "https://localhost:8080/"
        },
        "id": "6a851086",
        "outputId": "9e5e5024-d38c-4f31-a526-48e4cc8bdbfd"
      },
      "outputs": [
        {
          "output_type": "stream",
          "name": "stdout",
          "text": [
            "hdrlo\n"
          ]
        }
      ],
      "source": [
        "print(generate(\"h\", 4))"
      ]
    },
    {
      "cell_type": "code",
      "execution_count": 19,
      "id": "d2e2d7f7",
      "metadata": {
        "colab": {
          "base_uri": "https://localhost:8080/"
        },
        "id": "d2e2d7f7",
        "outputId": "d0d49276-29ce-45d9-f976-11ef19eb5e78"
      },
      "outputs": [
        {
          "output_type": "stream",
          "name": "stdout",
          "text": [
            "9.109999656677246\n"
          ]
        }
      ],
      "source": [
        "i_s = []\n",
        "for _ in range(100):\n",
        "    i = 1\n",
        "    while True:\n",
        "        pred = generate(\"h\", 10)\n",
        "        if pred == \"hello world\":\n",
        "            i_s.append(float(i))\n",
        "            break\n",
        "        i += 1\n",
        "\n",
        "print(torch.tensor(i_s).mean().item())"
      ]
    },
    {
      "cell_type": "markdown",
      "id": "3610d7f9",
      "metadata": {
        "id": "3610d7f9"
      },
      "source": [
        "Alright! We've had enough fun with simple RNN.\n",
        "Time to scale up, optimize and learn more complex data!"
      ]
    },
    {
      "cell_type": "code",
      "source": [
        "device = torch.device(\"cuda\" if torch.cuda.is_available() else \"cpu\")"
      ],
      "metadata": {
        "id": "q5oKP0FCGzBX"
      },
      "id": "q5oKP0FCGzBX",
      "execution_count": 20,
      "outputs": []
    },
    {
      "cell_type": "code",
      "execution_count": 21,
      "id": "8bb70baf",
      "metadata": {
        "colab": {
          "base_uri": "https://localhost:8080/"
        },
        "id": "8bb70baf",
        "outputId": "13bbd8aa-0af0-4ce1-c703-367406d6ee42"
      },
      "outputs": [
        {
          "output_type": "stream",
          "name": "stdout",
          "text": [
            "145 165519\n"
          ]
        }
      ],
      "source": [
        "text = open(\"onegin.txt\", \"r\").read()\n",
        "chars = sorted(set(text))\n",
        "vocab_size = len(chars)\n",
        "\n",
        "stoi = {ch: i for i, ch in enumerate(chars)}\n",
        "itos = {i: ch for ch, i in stoi.items()}\n",
        "\n",
        "print(vocab_size, len(text))"
      ]
    },
    {
      "cell_type": "code",
      "execution_count": 22,
      "id": "46c8367d",
      "metadata": {
        "id": "46c8367d"
      },
      "outputs": [],
      "source": [
        "def encode(s):\n",
        "    return [stoi[s] for c in s]\n",
        "\n",
        "def decode(indices):\n",
        "    return \"\".join([itos[i] for i in indices])"
      ]
    },
    {
      "cell_type": "code",
      "execution_count": 23,
      "id": "bd992b55",
      "metadata": {
        "id": "bd992b55"
      },
      "outputs": [],
      "source": [
        "class DeepRNN(nn.Module):\n",
        "    def __init__(self, input_size, hidden_size, output_size):\n",
        "        super().__init__()\n",
        "        self.ih1 = nn.Linear(input_size + hidden_size, hidden_size)\n",
        "        self.relu = nn.ReLU()\n",
        "        self.dropout = nn.Dropout(0.1)\n",
        "        self.h1h2 = nn.Linear(hidden_size*2, hidden_size)\n",
        "        self.relu = nn.ReLU()\n",
        "        self.dropout = nn.Dropout(0.1)\n",
        "        self.h2h3 = nn.Linear(hidden_size*2, hidden_size)\n",
        "        self.relu = nn.ReLU()\n",
        "        self.dropout = nn.Dropout(0.1)\n",
        "        self.h3o = nn.Linear(hidden_size, output_size)\n",
        "\n",
        "    def forward(self, inputs, h_prevs):\n",
        "        h1, h2, h3 = h_prevs\n",
        "        for x in inputs:\n",
        "            h1 = self.relu(self.ih1(torch.cat((x, h1), dim=1)))\n",
        "            h2 = self.relu(self.h1h2(torch.cat((h1, h2), dim=1)))\n",
        "            h3 = self.relu(self.h2h3(torch.cat((h2, h3), dim=1)))\n",
        "        logits = self.h3o(h3)\n",
        "        return logits, (h1, h2, h3)"
      ]
    },
    {
      "cell_type": "code",
      "execution_count": 60,
      "id": "b714d713",
      "metadata": {
        "id": "b714d713"
      },
      "outputs": [],
      "source": [
        "# HyperParameters\n",
        "input_size = vocab_size\n",
        "hidden_size = 128\n",
        "output_size = vocab_size\n",
        "seq_len = 24  # how many characters to read before predicting the next\n",
        "\n",
        "model = DeepRNN(input_size, hidden_size, output_size).to(device)\n",
        "loss_fn = nn.CrossEntropyLoss()\n",
        "optimizer = optim.Adam(model.parameters(), lr=0.001)\n",
        "\n",
        "def one_hot(index, vocab_size):\n",
        "    vec = torch.zeros(1, vocab_size, device=device)\n",
        "    vec[0, index] = 1.0\n",
        "    return vec"
      ]
    },
    {
      "cell_type": "code",
      "execution_count": 61,
      "id": "0a5d2642",
      "metadata": {
        "id": "0a5d2642"
      },
      "outputs": [],
      "source": [
        "def generate(start_text=\" \", length=20):\n",
        "    model.eval()\n",
        "    chars = [stoi[start_text]]\n",
        "    h_prevs = [torch.zeros(1, hidden_size, device=device),\n",
        "               torch.zeros(1, hidden_size, device=device),\n",
        "               torch.zeros(1, hidden_size, device=device)]\n",
        "    for _ in range(length):\n",
        "        x = one_hot(chars[-1], vocab_size)\n",
        "        logits, h_prevs = model([x], h_prevs)\n",
        "        probs = torch.softmax(logits, dim=-1)\n",
        "        idx = torch.multinomial(probs, num_samples=1).item()\n",
        "        chars.append(idx)\n",
        "    return decode(chars)"
      ]
    },
    {
      "cell_type": "code",
      "source": [
        "from tqdm import tqdm"
      ],
      "metadata": {
        "id": "_0WvQHS_IExI"
      },
      "id": "_0WvQHS_IExI",
      "execution_count": 62,
      "outputs": []
    },
    {
      "cell_type": "code",
      "execution_count": 63,
      "id": "10d3684d",
      "metadata": {
        "colab": {
          "base_uri": "https://localhost:8080/"
        },
        "id": "10d3684d",
        "outputId": "a831b0a6-56f8-4c23-e42a-e1ca5ac2110e"
      },
      "outputs": [
        {
          "output_type": "stream",
          "name": "stderr",
          "text": [
            "100%|██████████| 2000/2000 [00:38<00:00, 52.30it/s]\n",
            "100%|██████████| 2000/2000 [00:38<00:00, 52.47it/s]\n",
            "100%|██████████| 2000/2000 [00:38<00:00, 52.54it/s]\n",
            "100%|██████████| 2000/2000 [00:37<00:00, 52.66it/s]\n",
            "100%|██████████| 2000/2000 [00:38<00:00, 52.46it/s]\n",
            "100%|██████████| 2000/2000 [00:38<00:00, 51.67it/s]\n",
            "100%|██████████| 2000/2000 [00:38<00:00, 51.99it/s]\n",
            "100%|██████████| 2000/2000 [00:38<00:00, 52.02it/s]\n",
            "100%|██████████| 2000/2000 [00:39<00:00, 51.03it/s]\n",
            "100%|██████████| 2000/2000 [00:38<00:00, 51.93it/s]\n"
          ]
        },
        {
          "output_type": "stream",
          "name": "stdout",
          "text": [
            "Epoch: 10 | Loss: 5480.5535\n",
            "oи\n",
            "И с1шак хуттвихнай\n"
          ]
        },
        {
          "output_type": "stream",
          "name": "stderr",
          "text": [
            "100%|██████████| 2000/2000 [00:38<00:00, 52.01it/s]\n",
            "100%|██████████| 2000/2000 [00:38<00:00, 52.58it/s]\n",
            "100%|██████████| 2000/2000 [00:38<00:00, 52.56it/s]\n",
            "100%|██████████| 2000/2000 [00:38<00:00, 52.60it/s]\n",
            "100%|██████████| 2000/2000 [00:37<00:00, 52.65it/s]\n",
            "100%|██████████| 2000/2000 [00:38<00:00, 51.54it/s]\n",
            "100%|██████████| 2000/2000 [00:38<00:00, 52.35it/s]\n",
            "100%|██████████| 2000/2000 [00:38<00:00, 52.35it/s]\n",
            "100%|██████████| 2000/2000 [00:37<00:00, 52.89it/s]\n",
            "100%|██████████| 2000/2000 [00:37<00:00, 52.94it/s]\n"
          ]
        },
        {
          "output_type": "stream",
          "name": "stdout",
          "text": [
            "Epoch: 20 | Loss: 5384.4487\n",
            "t, радин... жаст сещы\n"
          ]
        },
        {
          "output_type": "stream",
          "name": "stderr",
          "text": [
            "100%|██████████| 2000/2000 [00:37<00:00, 52.95it/s]\n",
            "100%|██████████| 2000/2000 [00:37<00:00, 52.92it/s]\n",
            "100%|██████████| 2000/2000 [00:38<00:00, 51.82it/s]\n",
            "100%|██████████| 2000/2000 [00:37<00:00, 52.70it/s]\n",
            "100%|██████████| 2000/2000 [00:37<00:00, 52.91it/s]\n",
            "100%|██████████| 2000/2000 [00:37<00:00, 52.91it/s]\n",
            "100%|██████████| 2000/2000 [00:37<00:00, 52.85it/s]\n",
            "100%|██████████| 2000/2000 [00:37<00:00, 52.87it/s]\n",
            "100%|██████████| 2000/2000 [00:37<00:00, 52.90it/s]\n",
            "100%|██████████| 2000/2000 [00:38<00:00, 52.03it/s]\n"
          ]
        },
        {
          "output_type": "stream",
          "name": "stdout",
          "text": [
            "Epoch: 30 | Loss: 5166.8718\n",
            "1резкинай оснями\n",
            "Ссте\n"
          ]
        },
        {
          "output_type": "stream",
          "name": "stderr",
          "text": [
            "100%|██████████| 2000/2000 [00:37<00:00, 52.85it/s]\n",
            "100%|██████████| 2000/2000 [00:37<00:00, 52.72it/s]\n",
            "100%|██████████| 2000/2000 [00:37<00:00, 52.98it/s]\n",
            "100%|██████████| 2000/2000 [00:37<00:00, 52.95it/s]\n",
            "100%|██████████| 2000/2000 [00:37<00:00, 52.99it/s]\n",
            "100%|██████████| 2000/2000 [00:37<00:00, 52.89it/s]\n",
            "100%|██████████| 2000/2000 [00:38<00:00, 52.17it/s]\n",
            "100%|██████████| 2000/2000 [00:37<00:00, 52.83it/s]\n",
            "100%|██████████| 2000/2000 [00:37<00:00, 52.83it/s]\n",
            "100%|██████████| 2000/2000 [00:38<00:00, 52.42it/s]\n"
          ]
        },
        {
          "output_type": "stream",
          "name": "stdout",
          "text": [
            "Epoch: 40 | Loss: 5317.2746\n",
            "EСмипыи зныммют...\n",
            "К \n"
          ]
        },
        {
          "output_type": "stream",
          "name": "stderr",
          "text": [
            "100%|██████████| 2000/2000 [00:38<00:00, 51.99it/s]\n",
            "100%|██████████| 2000/2000 [00:37<00:00, 52.67it/s]\n",
            "100%|██████████| 2000/2000 [00:38<00:00, 52.52it/s]\n",
            "100%|██████████| 2000/2000 [00:38<00:00, 52.39it/s]\n",
            "100%|██████████| 2000/2000 [00:37<00:00, 52.97it/s]\n",
            "100%|██████████| 2000/2000 [00:37<00:00, 53.00it/s]\n",
            "100%|██████████| 2000/2000 [00:37<00:00, 52.88it/s]\n",
            "100%|██████████| 2000/2000 [00:38<00:00, 52.53it/s]\n",
            "100%|██████████| 2000/2000 [00:37<00:00, 52.67it/s]\n",
            "100%|██████████| 2000/2000 [00:38<00:00, 52.56it/s]"
          ]
        },
        {
          "output_type": "stream",
          "name": "stdout",
          "text": [
            "Epoch: 50 | Loss: 5140.3997\n",
            "q3ДtБX ит везстем убо\n"
          ]
        },
        {
          "output_type": "stream",
          "name": "stderr",
          "text": [
            "\n"
          ]
        }
      ],
      "source": [
        "n_epochs = 50\n",
        "batch_size = 2000\n",
        "\n",
        "for epoch in range(n_epochs):\n",
        "    total_loss = 0\n",
        "    start_idx = torch.randint(0, len(text)-seq_len, (1,)).item()\n",
        "    for i in tqdm(range(start_idx, start_idx+batch_size)):\n",
        "        seq_in = text[i:i+seq_len]\n",
        "        seq_out = text[i+seq_len]\n",
        "\n",
        "        x_seq = [one_hot(stoi[ch], vocab_size) for ch in seq_in]\n",
        "        y_target = torch.tensor([stoi[seq_out]], device=device)\n",
        "\n",
        "        h_prevs = [torch.zeros(1, hidden_size, device=device),\n",
        "                   torch.zeros(1, hidden_size, device=device),\n",
        "                   torch.zeros(1, hidden_size, device=device)]\n",
        "        logits, h_prevs_ = model(x_seq, h_prevs)\n",
        "\n",
        "\n",
        "        loss = loss_fn(logits, y_target)\n",
        "        optimizer.zero_grad()\n",
        "        loss.backward()\n",
        "        optimizer.step()\n",
        "\n",
        "        total_loss += loss.item()\n",
        "    if (epoch+1) % 10 == 0:\n",
        "        print(f\"Epoch: {epoch+1} | Loss: {total_loss:.4f}\")\n",
        "        print(generate(random.choice(chars)))"
      ]
    },
    {
      "cell_type": "code",
      "source": [
        "print(generate(\"з\", 900))"
      ],
      "metadata": {
        "colab": {
          "base_uri": "https://localhost:8080/"
        },
        "id": "s_cbQEKdMAUG",
        "outputId": "fb9187af-cbe6-40d2-b4d3-1f61da06cab0"
      },
      "id": "s_cbQEKdMAUG",
      "execution_count": 64,
      "outputs": [
        {
          "output_type": "stream",
          "name": "stdout",
          "text": [
            "зний не не плимот,\n",
            "С прихейничном Мотовеламкной\n",
            "И вовды.\n",
            "Герь орятчоци\n",
            "Сдлубланатени  своосевик,\n",
            "«чи колирых и залви, бесни\n",
            "Кес полоцма\n",
            "Дочают примов;\n",
            "Кидуцы ввопу\n",
            "Невдо, улвекся лусцы Навовелцлитлом.\n",
            "И вубремени,\n",
            "На бечиз и гилтельлыс хежеть ундий В лриог\n",
            "XXIV\n",
            "\n",
            "Так с нитин ч витчемы не дулелрешик болипое вурик,\n",
            "Онегин,\n",
            "хоравабалкиры чебвом уних как корный\n",
            "Мускох,\n",
            "Калень Ковна и деть\n",
            "XXVII\n",
            "\n",
            "И грит Я торару.\n",
            "X\n",
            " Слюхим ьдда Онегин\n",
            "И завуррунинуюх кых котяещала, в «течный стнот;\n",
            ". е, козремский,\n",
            "Стлялшиюх ожоды дерлыщи Тадеим, з чарких с хохкерик авкразмепран боштика\n",
            "Данерот для ве замибркуг\n",
            "Обстажьнех\n",
            "Обити Креча свозопрузилкей ссопсеца Остыкьел,\n",
            "XXIV\n",
            "\n",
            "Бовко волищег Лимиех моденралчал на виценцек льных вадачилан,\n",
            "Ввинник не прувдясе собички,\n",
            "Блажи к кевлой»\n",
            "А пужнит дизетго мрад,\n",
            "Ух крею гниз,\n",
            "Чаттуз»\n",
            "В Кода уструбоя порамы. сиель Тлу онесски и С крахал, катеряедаг ожях бетю\n",
            "Перридде накоду\n"
          ]
        }
      ]
    },
    {
      "cell_type": "markdown",
      "source": [
        "Yooooo!!! Lok at this! It learned some words, but the most importantly, it learned the structure (It even generates roman numbers)"
      ],
      "metadata": {
        "id": "K2zMBNTvVGok"
      },
      "id": "K2zMBNTvVGok"
    },
    {
      "cell_type": "code",
      "source": [
        "torch.save(model.state_dict(), \"/content/params.pth\")  # It's cool!"
      ],
      "metadata": {
        "id": "rhbMh-wPVTnb"
      },
      "id": "rhbMh-wPVTnb",
      "execution_count": 66,
      "outputs": []
    },
    {
      "cell_type": "code",
      "source": [
        "model = DeepRNN(input_size, hidden_size, output_size).to(device)\n",
        "model.load_state_dict(torch.load(\"/content/params.pth\", weights_only=True))"
      ],
      "metadata": {
        "colab": {
          "base_uri": "https://localhost:8080/"
        },
        "id": "8lOU6BrzVeqE",
        "outputId": "c613560e-d414-43a1-d001-27d359128996"
      },
      "id": "8lOU6BrzVeqE",
      "execution_count": 70,
      "outputs": [
        {
          "output_type": "execute_result",
          "data": {
            "text/plain": [
              "<All keys matched successfully>"
            ]
          },
          "metadata": {},
          "execution_count": 70
        }
      ]
    },
    {
      "cell_type": "code",
      "source": [
        "print(generate(\"О\", 1_000))"
      ],
      "metadata": {
        "colab": {
          "base_uri": "https://localhost:8080/"
        },
        "id": "evCE-0D5V1jM",
        "outputId": "ab5c4c64-89e5-4c74-b1d8-0597c848c1aa"
      },
      "id": "evCE-0D5V1jM",
      "execution_count": 76,
      "outputs": [
        {
          "output_type": "stream",
          "name": "stdout",
          "text": [
            "Обдився\n",
            "И бошем шерипашадне, Сорагу\n",
            "И стрик Зе ,\n",
            "Ни умсках мавир успридмоовураг тллевыг крежит  даву траталстик Теврибетивливовлкдадаю за ужаи сум, и ревече Гых Навоь к замлын подескуй,\n",
            "Лостовгенат.\n",
            "И сулашию,\n",
            "Отчав,\n",
            "Зав прикковдлый и чропор Снук ерцопитнейм Ды он дну третных не замрыбся\n",
            "Свойемрребний:\n",
            "Уй.\n",
            "Не тар додный тосмони:\n",
            "Кет. , годет, погундил\n",
            "И волишой реман?\n",
            "Остаже,\n",
            " отоный в пратдивной Мипрыжа;\n",
            "Дватский волеждещны солгил),\n",
            "Вал прехылихесько ь унить,\n",
            "И вечевстный скок ьдетле бредни остить предо я звы: ничи нематюнуния,\n",
            "И,  павкряшейе\n",
            "Чрислеминь Вратродик увво\n",
            "Притригитк мригит,\n",
            "Привобагах свяпа,,\n",
            "На эемвенкек\n",
            "Ежей,\n",
            "И стур Кесний Пликин касес,\n",
            "Ний лнайня;\n",
            "И жуйшаак к борит,\n",
            "Кебрушо,\n",
            "А бесшедьх и не вуты,\n",
            "Дравь.\n",
            "4 бох шегеться элзе лдигых Ле ссь\n",
            "Кавлук;\n",
            "Гытмьлобенык шагдимный ражезкитсты Чер Ли засело;\n",
            "Ада,\n",
            "Спобещентулит\n",
            "Грагыслис Вот.\n",
            "Инен: х годней жадхвечельна\n",
            "Ук м дрегный,\n",
            "Неметь; кустерпыккиг,\n",
            "Чо лввы вер, отв вдичивько, Тымичин\n",
            "кодуну\n",
            "Полоро;..\n",
            "совся барит.\n",
            "надетоссослобий\n"
          ]
        }
      ]
    },
    {
      "cell_type": "code",
      "source": [
        "# Let's keep training!!!\n",
        "\n",
        "n_epochs = 50\n",
        "batch_size = 2000\n",
        "\n",
        "for epoch in range(n_epochs):\n",
        "    total_loss = 0\n",
        "    start_idx = torch.randint(0, len(text)-seq_len, (1,)).item()\n",
        "    for i in tqdm(range(start_idx, start_idx+batch_size)):\n",
        "        seq_in = text[i:i+seq_len]\n",
        "        seq_out = text[i+seq_len]\n",
        "\n",
        "        x_seq = [one_hot(stoi[ch], vocab_size) for ch in seq_in]\n",
        "        y_target = torch.tensor([stoi[seq_out]], device=device)\n",
        "\n",
        "        h_prevs = [torch.zeros(1, hidden_size, device=device),\n",
        "                   torch.zeros(1, hidden_size, device=device),\n",
        "                   torch.zeros(1, hidden_size, device=device)]\n",
        "        logits, h_prevs_ = model(x_seq, h_prevs)\n",
        "\n",
        "\n",
        "        loss = loss_fn(logits, y_target)\n",
        "        optimizer.zero_grad()\n",
        "        loss.backward()\n",
        "        optimizer.step()\n",
        "\n",
        "        total_loss += loss.item()\n",
        "    if (epoch+1) % 10 == 0:\n",
        "        print(f\"Epoch: {epoch+1} | Loss: {total_loss:.4f}\")\n",
        "        print(generate(random.choice(chars)))"
      ],
      "metadata": {
        "colab": {
          "base_uri": "https://localhost:8080/"
        },
        "id": "Lrxc7HGXV8RM",
        "outputId": "0fec1da2-8a08-49f4-d54b-3bf3c9fc8973"
      },
      "id": "Lrxc7HGXV8RM",
      "execution_count": 77,
      "outputs": [
        {
          "output_type": "stream",
          "name": "stderr",
          "text": [
            "100%|██████████| 2000/2000 [00:37<00:00, 53.50it/s]\n",
            "100%|██████████| 2000/2000 [00:37<00:00, 53.36it/s]\n",
            "100%|██████████| 2000/2000 [00:37<00:00, 53.88it/s]\n",
            "100%|██████████| 2000/2000 [00:37<00:00, 54.02it/s]\n",
            "100%|██████████| 2000/2000 [00:37<00:00, 53.48it/s]\n",
            "100%|██████████| 2000/2000 [00:37<00:00, 53.35it/s]\n",
            "100%|██████████| 2000/2000 [00:37<00:00, 53.82it/s]\n",
            "100%|██████████| 2000/2000 [00:36<00:00, 54.07it/s]\n",
            "100%|██████████| 2000/2000 [00:36<00:00, 54.07it/s]\n",
            "100%|██████████| 2000/2000 [00:36<00:00, 54.14it/s]\n"
          ]
        },
        {
          "output_type": "stream",
          "name": "stdout",
          "text": [
            "Epoch: 10 | Loss: 5176.5397\n",
            "aЛаме, затрам еселак\n",
            "\n"
          ]
        },
        {
          "output_type": "stream",
          "name": "stderr",
          "text": [
            "100%|██████████| 2000/2000 [00:37<00:00, 53.98it/s]\n",
            "100%|██████████| 2000/2000 [00:36<00:00, 54.17it/s]\n",
            "100%|██████████| 2000/2000 [00:37<00:00, 53.87it/s]\n",
            "100%|██████████| 2000/2000 [00:37<00:00, 53.58it/s]\n",
            "100%|██████████| 2000/2000 [00:37<00:00, 53.34it/s]\n",
            "100%|██████████| 2000/2000 [00:37<00:00, 53.75it/s]\n",
            "100%|██████████| 2000/2000 [00:37<00:00, 53.77it/s]\n",
            "100%|██████████| 2000/2000 [00:37<00:00, 53.39it/s]\n",
            "100%|██████████| 2000/2000 [00:37<00:00, 53.01it/s]\n",
            "100%|██████████| 2000/2000 [00:37<00:00, 53.90it/s]\n"
          ]
        },
        {
          "output_type": "stream",
          "name": "stdout",
          "text": [
            "Epoch: 20 | Loss: 5414.5156\n",
            "XБра чаечечь тамегуст\n"
          ]
        },
        {
          "output_type": "stream",
          "name": "stderr",
          "text": [
            "100%|██████████| 2000/2000 [00:36<00:00, 54.07it/s]\n",
            "100%|██████████| 2000/2000 [00:36<00:00, 54.16it/s]\n",
            "100%|██████████| 2000/2000 [00:37<00:00, 53.88it/s]\n",
            "100%|██████████| 2000/2000 [00:37<00:00, 54.02it/s]\n",
            "100%|██████████| 2000/2000 [00:36<00:00, 54.27it/s]\n",
            "100%|██████████| 2000/2000 [00:36<00:00, 54.07it/s]\n",
            "100%|██████████| 2000/2000 [00:37<00:00, 53.65it/s]\n",
            "100%|██████████| 2000/2000 [00:37<00:00, 53.92it/s]\n",
            "100%|██████████| 2000/2000 [00:37<00:00, 53.96it/s]\n",
            "100%|██████████| 2000/2000 [00:37<00:00, 53.66it/s]\n"
          ]
        },
        {
          "output_type": "stream",
          "name": "stdout",
          "text": [
            "Epoch: 30 | Loss: 5067.3443\n",
            "ЦКи ринны, врябосгем:\n"
          ]
        },
        {
          "output_type": "stream",
          "name": "stderr",
          "text": [
            "100%|██████████| 2000/2000 [00:37<00:00, 53.66it/s]\n",
            "100%|██████████| 2000/2000 [00:37<00:00, 53.80it/s]\n",
            "100%|██████████| 2000/2000 [00:37<00:00, 53.87it/s]\n",
            "100%|██████████| 2000/2000 [00:37<00:00, 53.84it/s]\n",
            "100%|██████████| 2000/2000 [00:36<00:00, 54.15it/s]\n",
            "100%|██████████| 2000/2000 [00:36<00:00, 54.07it/s]\n",
            "100%|██████████| 2000/2000 [00:37<00:00, 54.03it/s]\n",
            "100%|██████████| 2000/2000 [00:37<00:00, 53.90it/s]\n",
            "100%|██████████| 2000/2000 [00:37<00:00, 53.98it/s]\n",
            "100%|██████████| 2000/2000 [00:37<00:00, 53.98it/s]\n"
          ]
        },
        {
          "output_type": "stream",
          "name": "stdout",
          "text": [
            "Epoch: 40 | Loss: 5128.6917\n",
            "xостлцускор литсю нех\n"
          ]
        },
        {
          "output_type": "stream",
          "name": "stderr",
          "text": [
            "100%|██████████| 2000/2000 [00:36<00:00, 54.07it/s]\n",
            "100%|██████████| 2000/2000 [00:37<00:00, 54.04it/s]\n",
            "100%|██████████| 2000/2000 [00:36<00:00, 54.08it/s]\n",
            "100%|██████████| 2000/2000 [00:37<00:00, 53.94it/s]\n",
            "100%|██████████| 2000/2000 [00:37<00:00, 53.77it/s]\n",
            "100%|██████████| 2000/2000 [00:37<00:00, 53.99it/s]\n",
            "100%|██████████| 2000/2000 [00:36<00:00, 54.14it/s]\n",
            "100%|██████████| 2000/2000 [00:37<00:00, 53.93it/s]\n",
            "100%|██████████| 2000/2000 [00:37<00:00, 54.00it/s]\n",
            "100%|██████████| 2000/2000 [00:37<00:00, 53.82it/s]"
          ]
        },
        {
          "output_type": "stream",
          "name": "stdout",
          "text": [
            "Epoch: 50 | Loss: 5065.6217\n",
            "Mду;\n",
            "Татьяс Легыз осо\n"
          ]
        },
        {
          "output_type": "stream",
          "name": "stderr",
          "text": [
            "\n"
          ]
        }
      ]
    },
    {
      "cell_type": "code",
      "source": [
        "print(generate(\"О\", 1_000))"
      ],
      "metadata": {
        "colab": {
          "base_uri": "https://localhost:8080/"
        },
        "id": "6EkVfZ0EWRNm",
        "outputId": "eb75f0b1-b96f-447f-a233-5d3fa0441a40"
      },
      "id": "6EkVfZ0EWRNm",
      "execution_count": 84,
      "outputs": [
        {
          "output_type": "stream",
          "name": "stdout",
          "text": [
            "Они нети я лби об ек стлюк,\n",
            "Онегин преныю бобедь?\n",
            "Лой стощилцей.\n",
            "IXIV\n",
            "\n",
            "XXI\n",
            "\n",
            "\n",
            "8XI\n",
            "\n",
            "И глейгрю\n",
            "На\n",
            "Круедан,\n",
            "Метасшикетя, долуснуць.\n",
            "Либы.\n",
            "А сту,\n",
            "И й не задния Неги;\n",
            "Сбогедь дерк окод ча прящерци раржия грукален , великлее: повьле кие тувинрем мак лру. едуяещинный\n",
            "Селез брай к ох обитты бодем\n",
            "Чадды выц,\n",
            "Дропрад стурту,\n",
            "Угьмедтой,\n",
            "В тачегых, м трек равеноено, гыжи восмы лтьвокь их.\n",
            "нас не побмуидицея, сскагы\n",
            "Дочарстращаем сво? Тажохдух тригском довиты Лежрана:\n",
            "Беворы, тел,\n",
            "Е\n",
            "Блидейесех занагликся Гопавюл члочийх.\n",
            "И е Нежег\n",
            "Кистоли родь не свамстилькаю вужетул.\n",
            "жето, замраванятые илалуня Их; ей.\n",
            ". . . дезю;\n",
            "XXIIIIIV.\n",
            "У, страх сзрузаридный,\n",
            "Маничны;\n",
            "Отонне убул шаветьврагирмыв\n",
            "Крат вог прахлуеньв Преж вер,\n",
            "Катнагаен не брег Нрый;\n",
            "Копрожавстим!\n",
            "\n",
            "И скеманы,\n",
            "В епялы! Пена, взыдный троти едки купажирь;\n",
            "На долрух не плисош етил их ожопд.\n",
            "Мал. кове лтюсмол\n",
            "XVXIII\n",
            "\n",
            "Нат озлащег и праренней Прелний.\n",
            "Ч на чвриния Онегин нак за скрушнитех Неже миеталь ит ил,\n",
            "Отонеюсногилез эисежит не лепру друдойетынкисув\n"
          ]
        }
      ]
    },
    {
      "cell_type": "markdown",
      "source": [
        "### Well, it learns words, does better, but takes quite some time to train"
      ],
      "metadata": {
        "id": "Fta4EelVdrAz"
      },
      "id": "Fta4EelVdrAz"
    },
    {
      "cell_type": "code",
      "source": [
        "torch.save(model.state_dict(), \"/content/params1.pth\")  # It's cooler!"
      ],
      "metadata": {
        "id": "cFJj-aHXdZDm"
      },
      "id": "cFJj-aHXdZDm",
      "execution_count": 85,
      "outputs": []
    },
    {
      "cell_type": "code",
      "source": [
        "# Let's keep training with smaller context window\n",
        "# To pay more attention to word formation\n",
        "\n",
        "seq_len = 8\n",
        "n_epochs = 50\n",
        "batch_size = 500\n",
        "\n",
        "for epoch in range(n_epochs):\n",
        "    total_loss = 0\n",
        "    start_idx = torch.randint(0, len(text)-seq_len, (1,)).item()\n",
        "    for i in tqdm(range(start_idx, start_idx+batch_size)):\n",
        "        seq_in = text[i:i+seq_len]\n",
        "        seq_out = text[i+seq_len]\n",
        "\n",
        "        x_seq = [one_hot(stoi[ch], vocab_size) for ch in seq_in]\n",
        "        y_target = torch.tensor([stoi[seq_out]], device=device)\n",
        "\n",
        "        h_prevs = [torch.zeros(1, hidden_size, device=device),\n",
        "                   torch.zeros(1, hidden_size, device=device),\n",
        "                   torch.zeros(1, hidden_size, device=device)]\n",
        "        logits, h_prevs_ = model(x_seq, h_prevs)\n",
        "\n",
        "\n",
        "        loss = loss_fn(logits, y_target)\n",
        "        optimizer.zero_grad()\n",
        "        loss.backward()\n",
        "        optimizer.step()\n",
        "\n",
        "        total_loss += loss.item()\n",
        "    if (epoch+1) % 10 == 0:\n",
        "        print(f\"Epoch: {epoch+1} | Loss: {total_loss:.4f}\")\n",
        "        print(generate(random.choice(chars)))"
      ],
      "metadata": {
        "colab": {
          "base_uri": "https://localhost:8080/"
        },
        "id": "34zCgN6Zd5FG",
        "outputId": "3494ad42-1e8c-41be-eb45-b47a50c50bd7"
      },
      "id": "34zCgN6Zd5FG",
      "execution_count": 88,
      "outputs": [
        {
          "output_type": "stream",
          "name": "stderr",
          "text": [
            "100%|██████████| 500/500 [00:03<00:00, 130.64it/s]\n",
            "100%|██████████| 500/500 [00:03<00:00, 152.10it/s]\n",
            "100%|██████████| 500/500 [00:03<00:00, 152.44it/s]\n",
            "100%|██████████| 500/500 [00:04<00:00, 116.00it/s]\n",
            "100%|██████████| 500/500 [00:03<00:00, 151.59it/s]\n",
            "100%|██████████| 500/500 [00:03<00:00, 150.56it/s]\n",
            "100%|██████████| 500/500 [00:03<00:00, 142.11it/s]\n",
            "100%|██████████| 500/500 [00:03<00:00, 136.39it/s]\n",
            "100%|██████████| 500/500 [00:03<00:00, 151.26it/s]\n",
            "100%|██████████| 500/500 [00:03<00:00, 143.42it/s]\n"
          ]
        },
        {
          "output_type": "stream",
          "name": "stdout",
          "text": [
            "Epoch: 10 | Loss: 1236.6061\n",
            "Роту оненцягнес глена\n"
          ]
        },
        {
          "output_type": "stream",
          "name": "stderr",
          "text": [
            "100%|██████████| 500/500 [00:03<00:00, 127.01it/s]\n",
            "100%|██████████| 500/500 [00:03<00:00, 152.16it/s]\n",
            "100%|██████████| 500/500 [00:03<00:00, 151.61it/s]\n",
            "100%|██████████| 500/500 [00:03<00:00, 137.84it/s]\n",
            "100%|██████████| 500/500 [00:03<00:00, 139.93it/s]\n",
            "100%|██████████| 500/500 [00:03<00:00, 151.65it/s]\n",
            "100%|██████████| 500/500 [00:03<00:00, 151.36it/s]\n",
            "100%|██████████| 500/500 [00:03<00:00, 128.42it/s]\n",
            "100%|██████████| 500/500 [00:03<00:00, 151.88it/s]\n",
            "100%|██████████| 500/500 [00:03<00:00, 150.10it/s]\n"
          ]
        },
        {
          "output_type": "stream",
          "name": "stdout",
          "text": [
            "Epoch: 20 | Loss: 1402.3698\n",
            "Q\n",
            "На неблячей,\n",
            " а тив\n"
          ]
        },
        {
          "output_type": "stream",
          "name": "stderr",
          "text": [
            "100%|██████████| 500/500 [00:03<00:00, 134.33it/s]\n",
            "100%|██████████| 500/500 [00:03<00:00, 143.86it/s]\n",
            "100%|██████████| 500/500 [00:03<00:00, 149.88it/s]\n",
            "100%|██████████| 500/500 [00:03<00:00, 153.10it/s]\n",
            "100%|██████████| 500/500 [00:03<00:00, 129.02it/s]\n",
            "100%|██████████| 500/500 [00:03<00:00, 150.13it/s]\n",
            "100%|██████████| 500/500 [00:03<00:00, 152.62it/s]\n",
            "100%|██████████| 500/500 [00:03<00:00, 129.98it/s]\n",
            "100%|██████████| 500/500 [00:03<00:00, 147.34it/s]\n",
            "100%|██████████| 500/500 [00:03<00:00, 151.67it/s]\n"
          ]
        },
        {
          "output_type": "stream",
          "name": "stdout",
          "text": [
            "Epoch: 30 | Loss: 1257.9917\n",
            ")ес повремх ыхенак ки\n"
          ]
        },
        {
          "output_type": "stream",
          "name": "stderr",
          "text": [
            "100%|██████████| 500/500 [00:03<00:00, 152.48it/s]\n",
            "100%|██████████| 500/500 [00:03<00:00, 128.93it/s]\n",
            "100%|██████████| 500/500 [00:03<00:00, 152.70it/s]\n",
            "100%|██████████| 500/500 [00:03<00:00, 150.87it/s]\n",
            "100%|██████████| 500/500 [00:03<00:00, 128.66it/s]\n",
            "100%|██████████| 500/500 [00:03<00:00, 150.06it/s]\n",
            "100%|██████████| 500/500 [00:03<00:00, 149.62it/s]\n",
            "100%|██████████| 500/500 [00:03<00:00, 149.42it/s]\n",
            "100%|██████████| 500/500 [00:03<00:00, 130.93it/s]\n",
            "100%|██████████| 500/500 [00:03<00:00, 149.38it/s]\n"
          ]
        },
        {
          "output_type": "stream",
          "name": "stdout",
          "text": [
            "Epoch: 40 | Loss: 1242.2586\n",
            "у трущо заскюк притид\n"
          ]
        },
        {
          "output_type": "stream",
          "name": "stderr",
          "text": [
            "100%|██████████| 500/500 [00:03<00:00, 152.18it/s]\n",
            "100%|██████████| 500/500 [00:03<00:00, 128.58it/s]\n",
            "100%|██████████| 500/500 [00:03<00:00, 150.29it/s]\n",
            "100%|██████████| 500/500 [00:03<00:00, 151.41it/s]\n",
            "100%|██████████| 500/500 [00:03<00:00, 143.99it/s]\n",
            "100%|██████████| 500/500 [00:03<00:00, 132.79it/s]\n",
            "100%|██████████| 500/500 [00:03<00:00, 152.10it/s]\n",
            "100%|██████████| 500/500 [00:03<00:00, 150.52it/s]\n",
            "100%|██████████| 500/500 [00:03<00:00, 127.65it/s]\n",
            "100%|██████████| 500/500 [00:03<00:00, 153.28it/s]"
          ]
        },
        {
          "output_type": "stream",
          "name": "stdout",
          "text": [
            "Epoch: 50 | Loss: 1259.6066\n",
            "Жан,\n",
            "На Внагельиле ви\n"
          ]
        },
        {
          "output_type": "stream",
          "name": "stderr",
          "text": [
            "\n"
          ]
        }
      ]
    },
    {
      "cell_type": "code",
      "source": [
        "print(generate(\"О\", 1_000))"
      ],
      "metadata": {
        "colab": {
          "base_uri": "https://localhost:8080/"
        },
        "id": "KwvJL-KtewcX",
        "outputId": "8caebf8d-06c9-4eb2-c8e0-e8c7b52cfe81"
      },
      "id": "KwvJL-KtewcX",
      "execution_count": 92,
      "outputs": [
        {
          "output_type": "stream",
          "name": "stdout",
          "text": [
            "Онегин сезик.\n",
            "И прикис\n",
            "Гликопною госкини\n",
            "Уноввона Унам не зувный сечам.\n",
            "Онегин\n",
            "И сак весканст, жытвь Исругы\n",
            "Паррединиль тодевегс оголшевель, огса ни демрям\n",
            "ихт дурранак дувет\n",
            "Пора лу пебыхи сча\n",
            "К стератодредойет — ч тюранитнониры гогоржа на витрид.\n",
            "В твмых И лкел дуд ласныт мрипсют лалтрор борям...\n",
            "И взаворшах охкрововтюшожи.\n",
            "У Пре полорожна.\n",
            "И навок зачущей,\n",
            "XVVI\n",
            "I. долишим варласкот М плок ченоч чердказ, янюкок хенное сла цы\n",
            "Поруевкей, торнех оннех брюпена ле,\n",
            "поать не селныки\n",
            "Ким, не слобашик прололрасняя скрадный кел вода, Онегин презлы дойдем морадик.\n",
            "Прелыют.\n",
            "Подрив на пругей\n",
            "Дыв остомрак иззддею не полынный,\n",
            "Сикредоелный,\n",
            "Склоюсни,\n",
            "Паде отскоул,\n",
            "Натух влацы\n",
            "И ват ужегик, мерьек\n",
            "боторик\n",
            "И ссег\n",
            "Онагин, ило.\n",
            "Восдедой и прежатин ком гулнак к вонецол\n",
            "Зеврак ислруньне тужит друг пудны ввеш тенно педичкаг вала нав пе вы; йней, ридных кров Тас Сетцахся переснай не кряг.\n",
            "Так бер\n",
            "Не покапедь бругай\n",
            "В яг педкы, горери.\n",
            ".\n",
            "Чсепык, Лавезебтрей хлидечаци вдо тобужный вельуй,\n",
            "Крадедчедной,\n",
            "Остик\n"
          ]
        }
      ]
    },
    {
      "cell_type": "markdown",
      "source": [
        "# Enough"
      ],
      "metadata": {
        "id": "XtHaGl3Mgay_"
      },
      "id": "XtHaGl3Mgay_"
    }
  ],
  "metadata": {
    "kernelspec": {
      "display_name": "Python 3",
      "name": "python3"
    },
    "language_info": {
      "codemirror_mode": {
        "name": "ipython",
        "version": 3
      },
      "file_extension": ".py",
      "mimetype": "text/x-python",
      "name": "python",
      "nbconvert_exporter": "python",
      "pygments_lexer": "ipython3",
      "version": "3.12.3"
    },
    "colab": {
      "provenance": [],
      "gpuType": "T4"
    },
    "accelerator": "GPU"
  },
  "nbformat": 4,
  "nbformat_minor": 5
}