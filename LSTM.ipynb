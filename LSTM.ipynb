{
  "nbformat": 4,
  "nbformat_minor": 0,
  "metadata": {
    "colab": {
      "provenance": [],
      "gpuType": "T4"
    },
    "kernelspec": {
      "name": "python3",
      "display_name": "Python 3"
    },
    "language_info": {
      "name": "python"
    },
    "accelerator": "GPU"
  },
  "cells": [
    {
      "cell_type": "code",
      "execution_count": 3,
      "metadata": {
        "id": "ulUa_WXCWqvH"
      },
      "outputs": [],
      "source": [
        "import torch\n",
        "from torch import nn\n",
        "from torch.nn import functional as F\n",
        "import numpy as np\n",
        "import matplotlib.pyplot as plt\n",
        "import random"
      ]
    },
    {
      "cell_type": "code",
      "source": [
        "device = \"cuda\" if torch.cuda.is_available() else \"cpu\"\n",
        "device"
      ],
      "metadata": {
        "colab": {
          "base_uri": "https://localhost:8080/",
          "height": 36
        },
        "id": "kCDhzB9wfAJi",
        "outputId": "4ee9c015-4e01-4d47-a14b-ee385f55c523"
      },
      "execution_count": 4,
      "outputs": [
        {
          "output_type": "execute_result",
          "data": {
            "text/plain": [
              "'cuda'"
            ],
            "application/vnd.google.colaboratory.intrinsic+json": {
              "type": "string"
            }
          },
          "metadata": {},
          "execution_count": 4
        }
      ]
    },
    {
      "cell_type": "code",
      "source": [
        "text = open(\"data.txt\", \"r\").read()\n",
        "\n",
        "vocab = sorted(set(text))\n",
        "vocab_size = len(vocab)\n",
        "\n",
        "itos = {i: s for i, s in enumerate(vocab)}\n",
        "stoi = {s: i for i, s in itos.items()}"
      ],
      "metadata": {
        "id": "lMKVHC9FWxXH"
      },
      "execution_count": 5,
      "outputs": []
    },
    {
      "cell_type": "code",
      "source": [
        "class LSTM(nn.Module):\n",
        "  def __init__(self, input_size, hidden_size, output_size):\n",
        "    super().__init__()\n",
        "    # Forget gate\n",
        "    self.ft = nn.Linear(input_size + hidden_size, hidden_size)\n",
        "    self.ftgate = nn.Sigmoid()\n",
        "    # Update gate\n",
        "    self.it = nn.Linear(input_size + hidden_size, hidden_size)\n",
        "    self.itgate = nn.Sigmoid()\n",
        "    self.ct = nn.Linear(input_size + hidden_size, hidden_size)\n",
        "    self.ctact = nn.Tanh()\n",
        "    # Output gate\n",
        "    self.ot = nn.Linear(input_size + hidden_size, hidden_size)  # Hidden forget\n",
        "    self.otgate = nn.Sigmoid()\n",
        "    self.tanh_cell = nn.Tanh()\n",
        "    self.out = nn.Linear(hidden_size, output_size)\n",
        "\n",
        "  def init_states(self, device):\n",
        "    hidden = torch.zeros((1, hidden_size), device=device)\n",
        "    cell = torch.zeros((1, hidden_size), device=device)\n",
        "    return hidden, cell\n",
        "\n",
        "  def forward(self, input, hidden, cell):\n",
        "    input_hidden = torch.cat((input, hidden), dim=1)\n",
        "    ft = self.ftgate(self.ft(input_hidden))  # Forget Gate\n",
        "    # Update Gate\n",
        "    it = self.itgate(self.it(input_hidden))\n",
        "    c_t = self.ctact(self.ct(input_hidden))\n",
        "    gain = it * c_t\n",
        "    # Update cell state\n",
        "    cell = cell * ft + gain\n",
        "    # Output Gate\n",
        "    ot = self.otgate(self.ot(input_hidden))\n",
        "    tanh_cell = self.tanh_cell(cell)\n",
        "    hidden = ot * tanh_cell  # Update hidden state\n",
        "    logits = self.out(hidden)\n",
        "\n",
        "    return logits, hidden, cell"
      ],
      "metadata": {
        "id": "SgAHq-bFZg4n"
      },
      "execution_count": 6,
      "outputs": []
    },
    {
      "cell_type": "code",
      "source": [
        "context_window = 32\n",
        "input_size = output_size = vocab_size\n",
        "hidden_size = 128\n",
        "\n",
        "lstm = LSTM(input_size, hidden_size, output_size).to(device)\n",
        "loss_fn = nn.CrossEntropyLoss()\n",
        "optimizer = torch.optim.Adam(lstm.parameters(), lr=0.001)"
      ],
      "metadata": {
        "id": "LlMFfL6FdG_Y"
      },
      "execution_count": 16,
      "outputs": []
    },
    {
      "cell_type": "code",
      "source": [
        "def generate(start=\"\", len_=20):\n",
        "  chars = [stoi[start]]\n",
        "\n",
        "  hidden, cell = lstm.init_states(device)\n",
        "  for i in range(len_):\n",
        "    input = chars[-1]\n",
        "    input = F.one_hot(torch.tensor(input).type(torch.LongTensor), num_classes=vocab_size).to(device)\n",
        "    inp = input.unsqueeze(0)\n",
        "    logits, hidden, cell = lstm(inp, hidden, cell)\n",
        "    probs = torch.softmax(logits, dim=1)\n",
        "    ix = torch.multinomial(probs, 1).item()\n",
        "    chars.append(ix)\n",
        "  return \"\".join([itos[ch] for ch in chars])"
      ],
      "metadata": {
        "id": "oVutbhvMjiRz"
      },
      "execution_count": 22,
      "outputs": []
    },
    {
      "cell_type": "code",
      "source": [
        "from tqdm import tqdm"
      ],
      "metadata": {
        "id": "m97TCIK0mQfK"
      },
      "execution_count": 18,
      "outputs": []
    },
    {
      "cell_type": "code",
      "source": [
        "N_EPOCHS = 50\n",
        "CHUNK_SIZE = 2000\n",
        "\n",
        "for epoch in range(N_EPOCHS):\n",
        "  randix = torch.randint(0, len(text)-context_window-1, (1,)).item()\n",
        "  for i in tqdm(range(randix, randix+CHUNK_SIZE)):\n",
        "    sample = text[i:i+context_window]\n",
        "    sample = [stoi[ch] for ch in sample]\n",
        "    ohe_sample = F.one_hot(torch.tensor(sample).type(torch.LongTensor), num_classes=vocab_size).to(device)\n",
        "    target = text[i+1:i+1+context_window]\n",
        "    enc_target = torch.tensor([stoi[ch] for ch in target]).to(device)\n",
        "\n",
        "    hidden, cell = lstm.init_states(device)\n",
        "    total_loss = 0\n",
        "    for i in range(len(ohe_sample)):\n",
        "      inp = ohe_sample[i].unsqueeze(0)\n",
        "      tg = enc_target[i].unsqueeze(0)\n",
        "      logits, hidden, cell = lstm(inp, hidden, cell)\n",
        "      loss = loss_fn(logits, tg)\n",
        "      total_loss = total_loss + loss\n",
        "    optimizer.zero_grad()\n",
        "    total_loss.backward()\n",
        "    optimizer.step()\n",
        "\n",
        "  if (epoch+1) % 10 == 0:\n",
        "    print(total_loss.item())\n",
        "    print(generate(random.choice(vocab)))"
      ],
      "metadata": {
        "colab": {
          "base_uri": "https://localhost:8080/"
        },
        "id": "39UtPZaddZLl",
        "outputId": "92e55087-301b-45ea-a978-46dd983b1661"
      },
      "execution_count": 19,
      "outputs": [
        {
          "output_type": "stream",
          "name": "stderr",
          "text": [
            "100%|██████████| 2000/2000 [01:22<00:00, 24.33it/s]\n",
            "100%|██████████| 2000/2000 [01:23<00:00, 24.03it/s]\n",
            "100%|██████████| 2000/2000 [01:21<00:00, 24.46it/s]\n",
            "100%|██████████| 2000/2000 [01:21<00:00, 24.41it/s]\n",
            "100%|██████████| 2000/2000 [01:22<00:00, 24.38it/s]\n",
            "100%|██████████| 2000/2000 [01:22<00:00, 24.28it/s]\n",
            "100%|██████████| 2000/2000 [01:21<00:00, 24.53it/s]\n",
            "100%|██████████| 2000/2000 [01:21<00:00, 24.48it/s]\n",
            "100%|██████████| 2000/2000 [01:22<00:00, 24.22it/s]\n",
            "100%|██████████| 2000/2000 [01:21<00:00, 24.40it/s]\n"
          ]
        },
        {
          "output_type": "stream",
          "name": "stdout",
          "text": [
            "59.70364761352539\n",
            "пачто?\n",
            "Я бав Онвоко ц\n"
          ]
        },
        {
          "output_type": "stream",
          "name": "stderr",
          "text": [
            "100%|██████████| 2000/2000 [01:21<00:00, 24.52it/s]\n",
            "100%|██████████| 2000/2000 [01:21<00:00, 24.52it/s]\n",
            "100%|██████████| 2000/2000 [01:22<00:00, 24.28it/s]\n",
            "100%|██████████| 2000/2000 [01:22<00:00, 24.38it/s]\n",
            "100%|██████████| 2000/2000 [01:21<00:00, 24.47it/s]\n",
            "100%|██████████| 2000/2000 [01:22<00:00, 24.21it/s]\n",
            "100%|██████████| 2000/2000 [01:21<00:00, 24.52it/s]\n",
            "100%|██████████| 2000/2000 [01:21<00:00, 24.51it/s]\n",
            "100%|██████████| 2000/2000 [01:21<00:00, 24.42it/s]\n",
            "100%|██████████| 2000/2000 [01:22<00:00, 24.26it/s]\n"
          ]
        },
        {
          "output_type": "stream",
          "name": "stdout",
          "text": [
            "32.81169509887695\n",
            "хось что Джонул» о.. \n"
          ]
        },
        {
          "output_type": "stream",
          "name": "stderr",
          "text": [
            "100%|██████████| 2000/2000 [01:22<00:00, 24.39it/s]\n",
            "100%|██████████| 2000/2000 [01:21<00:00, 24.46it/s]\n",
            "100%|██████████| 2000/2000 [01:21<00:00, 24.46it/s]\n",
            "100%|██████████| 2000/2000 [01:21<00:00, 24.50it/s]\n",
            "100%|██████████| 2000/2000 [01:21<00:00, 24.44it/s]\n",
            "100%|██████████| 2000/2000 [01:22<00:00, 24.30it/s]\n",
            "100%|██████████| 2000/2000 [01:21<00:00, 24.45it/s]\n",
            "100%|██████████| 2000/2000 [01:21<00:00, 24.64it/s]\n",
            "100%|██████████| 2000/2000 [01:21<00:00, 24.44it/s]\n",
            "100%|██████████| 2000/2000 [01:22<00:00, 24.30it/s]\n"
          ]
        },
        {
          "output_type": "stream",
          "name": "stdout",
          "text": [
            "30.660053253173828\n",
            "? !\n",
            "Я остонак, в это \n"
          ]
        },
        {
          "output_type": "stream",
          "name": "stderr",
          "text": [
            "100%|██████████| 2000/2000 [01:21<00:00, 24.45it/s]\n",
            "100%|██████████| 2000/2000 [01:21<00:00, 24.46it/s]\n",
            "100%|██████████| 2000/2000 [01:21<00:00, 24.51it/s]\n",
            "100%|██████████| 2000/2000 [01:21<00:00, 24.55it/s]\n",
            "100%|██████████| 2000/2000 [01:21<00:00, 24.53it/s]\n",
            "100%|██████████| 2000/2000 [01:22<00:00, 24.26it/s]\n",
            "100%|██████████| 2000/2000 [01:21<00:00, 24.43it/s]\n",
            "100%|██████████| 2000/2000 [01:21<00:00, 24.65it/s]\n",
            "100%|██████████| 2000/2000 [01:22<00:00, 24.20it/s]\n",
            "100%|██████████| 2000/2000 [01:22<00:00, 24.38it/s]\n"
          ]
        },
        {
          "output_type": "stream",
          "name": "stdout",
          "text": [
            "59.946922302246094\n",
            "А не хорожный самойст\n"
          ]
        },
        {
          "output_type": "stream",
          "name": "stderr",
          "text": [
            "100%|██████████| 2000/2000 [01:21<00:00, 24.48it/s]\n",
            "100%|██████████| 2000/2000 [01:21<00:00, 24.52it/s]\n",
            "100%|██████████| 2000/2000 [01:21<00:00, 24.46it/s]\n",
            "100%|██████████| 2000/2000 [01:22<00:00, 24.28it/s]\n",
            "100%|██████████| 2000/2000 [01:23<00:00, 24.05it/s]\n",
            "100%|██████████| 2000/2000 [01:24<00:00, 23.79it/s]\n",
            "100%|██████████| 2000/2000 [01:22<00:00, 24.13it/s]\n",
            "100%|██████████| 2000/2000 [01:22<00:00, 24.16it/s]\n",
            "100%|██████████| 2000/2000 [01:23<00:00, 23.95it/s]\n",
            "100%|██████████| 2000/2000 [01:22<00:00, 24.26it/s]"
          ]
        },
        {
          "output_type": "stream",
          "name": "stdout",
          "text": [
            "41.71445083618164\n",
            "\n",
            "Наша об передчнуюй. \n"
          ]
        },
        {
          "output_type": "stream",
          "name": "stderr",
          "text": [
            "\n"
          ]
        }
      ]
    },
    {
      "cell_type": "code",
      "source": [
        "torch.save(lstm.state_dict(), \"/content/lstm_params.pth\")"
      ],
      "metadata": {
        "id": "fDB14zgu3nTv"
      },
      "execution_count": 32,
      "outputs": []
    },
    {
      "cell_type": "code",
      "source": [
        "print(generate(\"Д\", 500))"
      ],
      "metadata": {
        "colab": {
          "base_uri": "https://localhost:8080/"
        },
        "id": "zE2sH5H9fMTt",
        "outputId": "7a8da350-438a-4687-dc8d-1e9cf446caba"
      },
      "execution_count": 31,
      "outputs": [
        {
          "output_type": "stream",
          "name": "stdout",
          "text": [
            "Дэн, я исте отдазшо увнта,\n",
            "ющи вот чеиявее оставаелачи, ссем облаЗай. амен в званай, офис. Зартеле попаяске.\n",
            "Ты этовым, перех ршек понянть ты шенивну это... мяленке впривёл денееЧко деньги, тожако, в боте. уечка привёз мне всжавал очемьцу дива тубрыхатьлись ты продишь конве дне дошён верина работы. В можницая буд ес попрум втлно, помачим пам адисленис.\n",
            "Ты трос.\n",
            "Начивать моде нужедживаный довадцапкаться ты поисте. ь сотня есть. Я конверт! Взкоридивас не я на ещё я, дом. у привёз молй довайте кходу\n"
          ]
        }
      ]
    },
    {
      "cell_type": "markdown",
      "source": [
        "### Damn... These are hallucinations of course, but yo... styling, words, ideas and main topics (money, crime, job)\n",
        "<img src=\"https://media1.tenor.com/m/FFUaxpGNKKkAAAAd/%D0%BE%D0%B7%D0%BE%D0%BD-ozon.gif\" width=40%>"
      ],
      "metadata": {
        "id": "DIkNSs8D20cR"
      }
    },
    {
      "cell_type": "code",
      "source": [],
      "metadata": {
        "id": "pr7noaSw3jvn"
      },
      "execution_count": null,
      "outputs": []
    }
  ]
}